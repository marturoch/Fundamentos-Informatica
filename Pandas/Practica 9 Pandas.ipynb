{
 "metadata": {
  "language_info": {
   "codemirror_mode": {
    "name": "ipython",
    "version": 3
   },
   "file_extension": ".py",
   "mimetype": "text/x-python",
   "name": "python",
   "nbconvert_exporter": "python",
   "pygments_lexer": "ipython3",
   "version": "3.9.1"
  },
  "orig_nbformat": 2,
  "kernelspec": {
   "name": "python391jvsc74a57bd06353e94bfc382bfd96feb3f07584ddc20f523b7b19602aa14b906fe14529434f",
   "display_name": "Python 3.9.1 64-bit"
  }
 },
 "nbformat": 4,
 "nbformat_minor": 2,
 "cells": [
  {
   "cell_type": "code",
   "execution_count": 2,
   "metadata": {},
   "outputs": [
    {
     "output_type": "execute_result",
     "data": {
      "text/plain": [
       "       persona_id  anio  categoria_conicet_id\n",
       "0               1  2011                  -1.0\n",
       "1               5  2011                   2.0\n",
       "2               7  2011                   NaN\n",
       "3              10  2011                  -1.0\n",
       "4              11  2011                  -1.0\n",
       "...           ...   ...                   ...\n",
       "68547      185558  2011                   NaN\n",
       "68548      185574  2011                   NaN\n",
       "68549      185583  2011                   NaN\n",
       "68550      185590  2011                   NaN\n",
       "68551      185608  2011                   NaN\n",
       "\n",
       "[68552 rows x 3 columns]"
      ],
      "text/html": "<div>\n<style scoped>\n    .dataframe tbody tr th:only-of-type {\n        vertical-align: middle;\n    }\n\n    .dataframe tbody tr th {\n        vertical-align: top;\n    }\n\n    .dataframe thead th {\n        text-align: right;\n    }\n</style>\n<table border=\"1\" class=\"dataframe\">\n  <thead>\n    <tr style=\"text-align: right;\">\n      <th></th>\n      <th>persona_id</th>\n      <th>anio</th>\n      <th>categoria_conicet_id</th>\n    </tr>\n  </thead>\n  <tbody>\n    <tr>\n      <th>0</th>\n      <td>1</td>\n      <td>2011</td>\n      <td>-1.0</td>\n    </tr>\n    <tr>\n      <th>1</th>\n      <td>5</td>\n      <td>2011</td>\n      <td>2.0</td>\n    </tr>\n    <tr>\n      <th>2</th>\n      <td>7</td>\n      <td>2011</td>\n      <td>NaN</td>\n    </tr>\n    <tr>\n      <th>3</th>\n      <td>10</td>\n      <td>2011</td>\n      <td>-1.0</td>\n    </tr>\n    <tr>\n      <th>4</th>\n      <td>11</td>\n      <td>2011</td>\n      <td>-1.0</td>\n    </tr>\n    <tr>\n      <th>...</th>\n      <td>...</td>\n      <td>...</td>\n      <td>...</td>\n    </tr>\n    <tr>\n      <th>68547</th>\n      <td>185558</td>\n      <td>2011</td>\n      <td>NaN</td>\n    </tr>\n    <tr>\n      <th>68548</th>\n      <td>185574</td>\n      <td>2011</td>\n      <td>NaN</td>\n    </tr>\n    <tr>\n      <th>68549</th>\n      <td>185583</td>\n      <td>2011</td>\n      <td>NaN</td>\n    </tr>\n    <tr>\n      <th>68550</th>\n      <td>185590</td>\n      <td>2011</td>\n      <td>NaN</td>\n    </tr>\n    <tr>\n      <th>68551</th>\n      <td>185608</td>\n      <td>2011</td>\n      <td>NaN</td>\n    </tr>\n  </tbody>\n</table>\n<p>68552 rows × 3 columns</p>\n</div>"
     },
     "metadata": {},
     "execution_count": 2
    }
   ],
   "source": [
    "import pandas as pd\n",
    "path = r'C:\\Users\\martu\\Documents\\martu\\UCEMA\\2 - PRIMER CUATRI\\INFORMATICA\\Base de Datos\\personas_2011.csv'\n",
    "personas = pd.read_csv(path, sep=\";\") \n",
    "#Creá un nuevo DataFrame a partir del DataFrame Personas, el cual solo tenga las columnas \"persona_id\", \"anio\" y \"categoria_conicet_id\" (guardalo en una variable llamada pers)\n",
    "#forma 1:\n",
    "pers = personas[['persona_id','anio', 'categoria_conicet_id']]\n",
    "#forma 2:\n",
    "pers = pd.concat([personas[\"persona_id\"], personas[\"anio\"], personas[\"categoria_conicet_id\"]], axis=1)\n",
    "pers\n"
   ]
  },
  {
   "cell_type": "code",
   "execution_count": 4,
   "metadata": {},
   "outputs": [
    {
     "output_type": "execute_result",
     "data": {
      "text/plain": [
       "    categoria_conicet_id  categoria_conicet_descripcion\n",
       "0                     -1         No pertenece a Conicet\n",
       "1                      1         Investigador asistente\n",
       "2                      2           Investigador adjunto\n",
       "3                      3     Investigador independiente\n",
       "4                      4         Investigador principal\n",
       "5                      5          Investigador superior\n",
       "6                      6               Becario doctoral\n",
       "7                      7           Becario postdoctoral\n",
       "8                      8              Personal de apoyo\n",
       "9                      9                    Gestión CyT\n",
       "10                    10                        Pasante\n",
       "11                    11          Otro personal Conicet\n",
       "12                    12   Investigador correspondiente\n",
       "13                    13  Investigador superior emérito"
      ],
      "text/html": "<div>\n<style scoped>\n    .dataframe tbody tr th:only-of-type {\n        vertical-align: middle;\n    }\n\n    .dataframe tbody tr th {\n        vertical-align: top;\n    }\n\n    .dataframe thead th {\n        text-align: right;\n    }\n</style>\n<table border=\"1\" class=\"dataframe\">\n  <thead>\n    <tr style=\"text-align: right;\">\n      <th></th>\n      <th>categoria_conicet_id</th>\n      <th>categoria_conicet_descripcion</th>\n    </tr>\n  </thead>\n  <tbody>\n    <tr>\n      <th>0</th>\n      <td>-1</td>\n      <td>No pertenece a Conicet</td>\n    </tr>\n    <tr>\n      <th>1</th>\n      <td>1</td>\n      <td>Investigador asistente</td>\n    </tr>\n    <tr>\n      <th>2</th>\n      <td>2</td>\n      <td>Investigador adjunto</td>\n    </tr>\n    <tr>\n      <th>3</th>\n      <td>3</td>\n      <td>Investigador independiente</td>\n    </tr>\n    <tr>\n      <th>4</th>\n      <td>4</td>\n      <td>Investigador principal</td>\n    </tr>\n    <tr>\n      <th>5</th>\n      <td>5</td>\n      <td>Investigador superior</td>\n    </tr>\n    <tr>\n      <th>6</th>\n      <td>6</td>\n      <td>Becario doctoral</td>\n    </tr>\n    <tr>\n      <th>7</th>\n      <td>7</td>\n      <td>Becario postdoctoral</td>\n    </tr>\n    <tr>\n      <th>8</th>\n      <td>8</td>\n      <td>Personal de apoyo</td>\n    </tr>\n    <tr>\n      <th>9</th>\n      <td>9</td>\n      <td>Gestión CyT</td>\n    </tr>\n    <tr>\n      <th>10</th>\n      <td>10</td>\n      <td>Pasante</td>\n    </tr>\n    <tr>\n      <th>11</th>\n      <td>11</td>\n      <td>Otro personal Conicet</td>\n    </tr>\n    <tr>\n      <th>12</th>\n      <td>12</td>\n      <td>Investigador correspondiente</td>\n    </tr>\n    <tr>\n      <th>13</th>\n      <td>13</td>\n      <td>Investigador superior emérito</td>\n    </tr>\n  </tbody>\n</table>\n</div>"
     },
     "metadata": {},
     "execution_count": 4
    }
   ],
   "source": [
    "path_cat= r'C:\\Users\\martu\\Documents\\martu\\UCEMA\\2 - PRIMER CUATRI\\INFORMATICA\\Base de Datos\\ref_categoria_conicet.csv'\n",
    "conicet = pd.read_csv(path_cat, sep=\";\")\n",
    "conicet"
   ]
  },
  {
   "cell_type": "code",
   "execution_count": 5,
   "metadata": {},
   "outputs": [
    {
     "output_type": "execute_result",
     "data": {
      "text/plain": [
       "array([-1.,  2., nan,  3.,  7.,  5.,  8.,  4.,  1.,  6., 11., 10.])"
      ]
     },
     "metadata": {},
     "execution_count": 5
    }
   ],
   "source": [
    "#TIPOS DE MERGE\n",
    "pd.unique(personas.categoria_conicet_id)\n",
    "#Falta 9,12, 13"
   ]
  },
  {
   "cell_type": "code",
   "execution_count": 6,
   "metadata": {},
   "outputs": [
    {
     "output_type": "execute_result",
     "data": {
      "text/plain": [
       "array([-1,  1,  2,  3,  4,  5,  6,  7,  8,  9, 10, 11, 12, 13],\n",
       "      dtype=int64)"
      ]
     },
     "metadata": {},
     "execution_count": 6
    }
   ],
   "source": [
    "pd.unique(conicet.categoria_conicet_id)"
   ]
  },
  {
   "cell_type": "code",
   "execution_count": 5,
   "metadata": {},
   "outputs": [
    {
     "output_type": "execute_result",
     "data": {
      "text/plain": [
       "       persona_id  anio  categoria_conicet_id categoria_conicet_descripcion\n",
       "0               1  2011                  -1.0        No pertenece a Conicet\n",
       "1              10  2011                  -1.0        No pertenece a Conicet\n",
       "2              11  2011                  -1.0        No pertenece a Conicet\n",
       "3              12  2011                  -1.0        No pertenece a Conicet\n",
       "4              13  2011                  -1.0        No pertenece a Conicet\n",
       "...           ...   ...                   ...                           ...\n",
       "48635       60260  2011                  11.0         Otro personal Conicet\n",
       "48636       79131  2011                  11.0         Otro personal Conicet\n",
       "48637       85209  2011                  11.0         Otro personal Conicet\n",
       "48638      146747  2011                  11.0         Otro personal Conicet\n",
       "48639       47272  2011                  10.0                       Pasante\n",
       "\n",
       "[48640 rows x 4 columns]"
      ],
      "text/html": "<div>\n<style scoped>\n    .dataframe tbody tr th:only-of-type {\n        vertical-align: middle;\n    }\n\n    .dataframe tbody tr th {\n        vertical-align: top;\n    }\n\n    .dataframe thead th {\n        text-align: right;\n    }\n</style>\n<table border=\"1\" class=\"dataframe\">\n  <thead>\n    <tr style=\"text-align: right;\">\n      <th></th>\n      <th>persona_id</th>\n      <th>anio</th>\n      <th>categoria_conicet_id</th>\n      <th>categoria_conicet_descripcion</th>\n    </tr>\n  </thead>\n  <tbody>\n    <tr>\n      <th>0</th>\n      <td>1</td>\n      <td>2011</td>\n      <td>-1.0</td>\n      <td>No pertenece a Conicet</td>\n    </tr>\n    <tr>\n      <th>1</th>\n      <td>10</td>\n      <td>2011</td>\n      <td>-1.0</td>\n      <td>No pertenece a Conicet</td>\n    </tr>\n    <tr>\n      <th>2</th>\n      <td>11</td>\n      <td>2011</td>\n      <td>-1.0</td>\n      <td>No pertenece a Conicet</td>\n    </tr>\n    <tr>\n      <th>3</th>\n      <td>12</td>\n      <td>2011</td>\n      <td>-1.0</td>\n      <td>No pertenece a Conicet</td>\n    </tr>\n    <tr>\n      <th>4</th>\n      <td>13</td>\n      <td>2011</td>\n      <td>-1.0</td>\n      <td>No pertenece a Conicet</td>\n    </tr>\n    <tr>\n      <th>...</th>\n      <td>...</td>\n      <td>...</td>\n      <td>...</td>\n      <td>...</td>\n    </tr>\n    <tr>\n      <th>48635</th>\n      <td>60260</td>\n      <td>2011</td>\n      <td>11.0</td>\n      <td>Otro personal Conicet</td>\n    </tr>\n    <tr>\n      <th>48636</th>\n      <td>79131</td>\n      <td>2011</td>\n      <td>11.0</td>\n      <td>Otro personal Conicet</td>\n    </tr>\n    <tr>\n      <th>48637</th>\n      <td>85209</td>\n      <td>2011</td>\n      <td>11.0</td>\n      <td>Otro personal Conicet</td>\n    </tr>\n    <tr>\n      <th>48638</th>\n      <td>146747</td>\n      <td>2011</td>\n      <td>11.0</td>\n      <td>Otro personal Conicet</td>\n    </tr>\n    <tr>\n      <th>48639</th>\n      <td>47272</td>\n      <td>2011</td>\n      <td>10.0</td>\n      <td>Pasante</td>\n    </tr>\n  </tbody>\n</table>\n<p>48640 rows × 4 columns</p>\n</div>"
     },
     "metadata": {},
     "execution_count": 5
    }
   ],
   "source": [
    "#Solo las filas en comun, INNER\n",
    "#Purga los NaN, deja solo datos validos\n",
    "pd.merge(pers, conicet,how=\"inner\", on = \"categoria_conicet_id\")"
   ]
  },
  {
   "cell_type": "code",
   "execution_count": 7,
   "metadata": {},
   "outputs": [
    {
     "output_type": "execute_result",
     "data": {
      "text/plain": [
       "       persona_id    anio  categoria_conicet_id  categoria_conicet_descripcion\n",
       "0             1.0  2011.0                  -1.0         No pertenece a Conicet\n",
       "1            10.0  2011.0                  -1.0         No pertenece a Conicet\n",
       "2            11.0  2011.0                  -1.0         No pertenece a Conicet\n",
       "3            12.0  2011.0                  -1.0         No pertenece a Conicet\n",
       "4            13.0  2011.0                  -1.0         No pertenece a Conicet\n",
       "...           ...     ...                   ...                            ...\n",
       "48638     79131.0  2011.0                  11.0          Otro personal Conicet\n",
       "48639     85209.0  2011.0                  11.0          Otro personal Conicet\n",
       "48640    146747.0  2011.0                  11.0          Otro personal Conicet\n",
       "48641         NaN     NaN                  12.0   Investigador correspondiente\n",
       "48642         NaN     NaN                  13.0  Investigador superior emérito\n",
       "\n",
       "[48643 rows x 4 columns]"
      ],
      "text/html": "<div>\n<style scoped>\n    .dataframe tbody tr th:only-of-type {\n        vertical-align: middle;\n    }\n\n    .dataframe tbody tr th {\n        vertical-align: top;\n    }\n\n    .dataframe thead th {\n        text-align: right;\n    }\n</style>\n<table border=\"1\" class=\"dataframe\">\n  <thead>\n    <tr style=\"text-align: right;\">\n      <th></th>\n      <th>persona_id</th>\n      <th>anio</th>\n      <th>categoria_conicet_id</th>\n      <th>categoria_conicet_descripcion</th>\n    </tr>\n  </thead>\n  <tbody>\n    <tr>\n      <th>0</th>\n      <td>1.0</td>\n      <td>2011.0</td>\n      <td>-1.0</td>\n      <td>No pertenece a Conicet</td>\n    </tr>\n    <tr>\n      <th>1</th>\n      <td>10.0</td>\n      <td>2011.0</td>\n      <td>-1.0</td>\n      <td>No pertenece a Conicet</td>\n    </tr>\n    <tr>\n      <th>2</th>\n      <td>11.0</td>\n      <td>2011.0</td>\n      <td>-1.0</td>\n      <td>No pertenece a Conicet</td>\n    </tr>\n    <tr>\n      <th>3</th>\n      <td>12.0</td>\n      <td>2011.0</td>\n      <td>-1.0</td>\n      <td>No pertenece a Conicet</td>\n    </tr>\n    <tr>\n      <th>4</th>\n      <td>13.0</td>\n      <td>2011.0</td>\n      <td>-1.0</td>\n      <td>No pertenece a Conicet</td>\n    </tr>\n    <tr>\n      <th>...</th>\n      <td>...</td>\n      <td>...</td>\n      <td>...</td>\n      <td>...</td>\n    </tr>\n    <tr>\n      <th>48638</th>\n      <td>79131.0</td>\n      <td>2011.0</td>\n      <td>11.0</td>\n      <td>Otro personal Conicet</td>\n    </tr>\n    <tr>\n      <th>48639</th>\n      <td>85209.0</td>\n      <td>2011.0</td>\n      <td>11.0</td>\n      <td>Otro personal Conicet</td>\n    </tr>\n    <tr>\n      <th>48640</th>\n      <td>146747.0</td>\n      <td>2011.0</td>\n      <td>11.0</td>\n      <td>Otro personal Conicet</td>\n    </tr>\n    <tr>\n      <th>48641</th>\n      <td>NaN</td>\n      <td>NaN</td>\n      <td>12.0</td>\n      <td>Investigador correspondiente</td>\n    </tr>\n    <tr>\n      <th>48642</th>\n      <td>NaN</td>\n      <td>NaN</td>\n      <td>13.0</td>\n      <td>Investigador superior emérito</td>\n    </tr>\n  </tbody>\n</table>\n<p>48643 rows × 4 columns</p>\n</div>"
     },
     "metadata": {},
     "execution_count": 7
    }
   ],
   "source": [
    "#Utiliza como referencia la columna del df de la derecha. Agrega todos los de la derecha + los que tienen en comun.\n",
    "#Inner(sin NaN) + 3 filas del 2do df(9, 12 y 13)\n",
    "pd.merge(pers, conicet,how=\"right\", on = \"categoria_conicet_id\")"
   ]
  },
  {
   "cell_type": "code",
   "execution_count": 7,
   "metadata": {},
   "outputs": [
    {
     "output_type": "execute_result",
     "data": {
      "text/plain": [
       "       persona_id  anio  categoria_conicet_id categoria_conicet_descripcion\n",
       "0               1  2011                  -1.0        No pertenece a Conicet\n",
       "1               5  2011                   2.0          Investigador adjunto\n",
       "2               7  2011                   NaN                           NaN\n",
       "3              10  2011                  -1.0        No pertenece a Conicet\n",
       "4              11  2011                  -1.0        No pertenece a Conicet\n",
       "...           ...   ...                   ...                           ...\n",
       "68547      185558  2011                   NaN                           NaN\n",
       "68548      185574  2011                   NaN                           NaN\n",
       "68549      185583  2011                   NaN                           NaN\n",
       "68550      185590  2011                   NaN                           NaN\n",
       "68551      185608  2011                   NaN                           NaN\n",
       "\n",
       "[68552 rows x 4 columns]"
      ],
      "text/html": "<div>\n<style scoped>\n    .dataframe tbody tr th:only-of-type {\n        vertical-align: middle;\n    }\n\n    .dataframe tbody tr th {\n        vertical-align: top;\n    }\n\n    .dataframe thead th {\n        text-align: right;\n    }\n</style>\n<table border=\"1\" class=\"dataframe\">\n  <thead>\n    <tr style=\"text-align: right;\">\n      <th></th>\n      <th>persona_id</th>\n      <th>anio</th>\n      <th>categoria_conicet_id</th>\n      <th>categoria_conicet_descripcion</th>\n    </tr>\n  </thead>\n  <tbody>\n    <tr>\n      <th>0</th>\n      <td>1</td>\n      <td>2011</td>\n      <td>-1.0</td>\n      <td>No pertenece a Conicet</td>\n    </tr>\n    <tr>\n      <th>1</th>\n      <td>5</td>\n      <td>2011</td>\n      <td>2.0</td>\n      <td>Investigador adjunto</td>\n    </tr>\n    <tr>\n      <th>2</th>\n      <td>7</td>\n      <td>2011</td>\n      <td>NaN</td>\n      <td>NaN</td>\n    </tr>\n    <tr>\n      <th>3</th>\n      <td>10</td>\n      <td>2011</td>\n      <td>-1.0</td>\n      <td>No pertenece a Conicet</td>\n    </tr>\n    <tr>\n      <th>4</th>\n      <td>11</td>\n      <td>2011</td>\n      <td>-1.0</td>\n      <td>No pertenece a Conicet</td>\n    </tr>\n    <tr>\n      <th>...</th>\n      <td>...</td>\n      <td>...</td>\n      <td>...</td>\n      <td>...</td>\n    </tr>\n    <tr>\n      <th>68547</th>\n      <td>185558</td>\n      <td>2011</td>\n      <td>NaN</td>\n      <td>NaN</td>\n    </tr>\n    <tr>\n      <th>68548</th>\n      <td>185574</td>\n      <td>2011</td>\n      <td>NaN</td>\n      <td>NaN</td>\n    </tr>\n    <tr>\n      <th>68549</th>\n      <td>185583</td>\n      <td>2011</td>\n      <td>NaN</td>\n      <td>NaN</td>\n    </tr>\n    <tr>\n      <th>68550</th>\n      <td>185590</td>\n      <td>2011</td>\n      <td>NaN</td>\n      <td>NaN</td>\n    </tr>\n    <tr>\n      <th>68551</th>\n      <td>185608</td>\n      <td>2011</td>\n      <td>NaN</td>\n      <td>NaN</td>\n    </tr>\n  </tbody>\n</table>\n<p>68552 rows × 4 columns</p>\n</div>"
     },
     "metadata": {},
     "execution_count": 7
    }
   ],
   "source": [
    "#Utiliza la colum ref del df de la izq. Agrega todos los de la izq + los que tienen en comun\n",
    "#Inner + NaN(datos exclusivos del df de la izq). Seria como tener el def original.\n",
    "pd.merge(pers, conicet,how=\"left\", on = \"categoria_conicet_id\")"
   ]
  },
  {
   "cell_type": "code",
   "execution_count": 8,
   "metadata": {},
   "outputs": [
    {
     "output_type": "execute_result",
     "data": {
      "text/plain": [
       "       persona_id    anio  categoria_conicet_id  categoria_conicet_descripcion\n",
       "0             1.0  2011.0                  -1.0         No pertenece a Conicet\n",
       "1            10.0  2011.0                  -1.0         No pertenece a Conicet\n",
       "2            11.0  2011.0                  -1.0         No pertenece a Conicet\n",
       "3            12.0  2011.0                  -1.0         No pertenece a Conicet\n",
       "4            13.0  2011.0                  -1.0         No pertenece a Conicet\n",
       "...           ...     ...                   ...                            ...\n",
       "68550    146747.0  2011.0                  11.0          Otro personal Conicet\n",
       "68551     47272.0  2011.0                  10.0                        Pasante\n",
       "68552         NaN     NaN                   9.0                    Gestión CyT\n",
       "68553         NaN     NaN                  12.0   Investigador correspondiente\n",
       "68554         NaN     NaN                  13.0  Investigador superior emérito\n",
       "\n",
       "[68555 rows x 4 columns]"
      ],
      "text/html": "<div>\n<style scoped>\n    .dataframe tbody tr th:only-of-type {\n        vertical-align: middle;\n    }\n\n    .dataframe tbody tr th {\n        vertical-align: top;\n    }\n\n    .dataframe thead th {\n        text-align: right;\n    }\n</style>\n<table border=\"1\" class=\"dataframe\">\n  <thead>\n    <tr style=\"text-align: right;\">\n      <th></th>\n      <th>persona_id</th>\n      <th>anio</th>\n      <th>categoria_conicet_id</th>\n      <th>categoria_conicet_descripcion</th>\n    </tr>\n  </thead>\n  <tbody>\n    <tr>\n      <th>0</th>\n      <td>1.0</td>\n      <td>2011.0</td>\n      <td>-1.0</td>\n      <td>No pertenece a Conicet</td>\n    </tr>\n    <tr>\n      <th>1</th>\n      <td>10.0</td>\n      <td>2011.0</td>\n      <td>-1.0</td>\n      <td>No pertenece a Conicet</td>\n    </tr>\n    <tr>\n      <th>2</th>\n      <td>11.0</td>\n      <td>2011.0</td>\n      <td>-1.0</td>\n      <td>No pertenece a Conicet</td>\n    </tr>\n    <tr>\n      <th>3</th>\n      <td>12.0</td>\n      <td>2011.0</td>\n      <td>-1.0</td>\n      <td>No pertenece a Conicet</td>\n    </tr>\n    <tr>\n      <th>4</th>\n      <td>13.0</td>\n      <td>2011.0</td>\n      <td>-1.0</td>\n      <td>No pertenece a Conicet</td>\n    </tr>\n    <tr>\n      <th>...</th>\n      <td>...</td>\n      <td>...</td>\n      <td>...</td>\n      <td>...</td>\n    </tr>\n    <tr>\n      <th>68550</th>\n      <td>146747.0</td>\n      <td>2011.0</td>\n      <td>11.0</td>\n      <td>Otro personal Conicet</td>\n    </tr>\n    <tr>\n      <th>68551</th>\n      <td>47272.0</td>\n      <td>2011.0</td>\n      <td>10.0</td>\n      <td>Pasante</td>\n    </tr>\n    <tr>\n      <th>68552</th>\n      <td>NaN</td>\n      <td>NaN</td>\n      <td>9.0</td>\n      <td>Gestión CyT</td>\n    </tr>\n    <tr>\n      <th>68553</th>\n      <td>NaN</td>\n      <td>NaN</td>\n      <td>12.0</td>\n      <td>Investigador correspondiente</td>\n    </tr>\n    <tr>\n      <th>68554</th>\n      <td>NaN</td>\n      <td>NaN</td>\n      <td>13.0</td>\n      <td>Investigador superior emérito</td>\n    </tr>\n  </tbody>\n</table>\n<p>68555 rows × 4 columns</p>\n</div>"
     },
     "metadata": {},
     "execution_count": 8
    }
   ],
   "source": [
    "#Une ambos df sin eliminar columnas. Agrega 3 adicionales al final que no encuentra como relacionar con el df original, el resto las relaciona correctamente\n",
    "pd.merge(pers, conicet,how=\"outer\", on = \"categoria_conicet_id\")"
   ]
  },
  {
   "cell_type": "code",
   "execution_count": 9,
   "metadata": {},
   "outputs": [
    {
     "output_type": "execute_result",
     "data": {
      "text/plain": [
       "   persona_id  anio  categoria_conicet_id_x  categoria_conicet_id_y  \\\n",
       "0           1  2011                    -1.0                       1   \n",
       "1           5  2011                     2.0                       5   \n",
       "2           7  2011                     NaN                       7   \n",
       "3          10  2011                    -1.0                      10   \n",
       "4          11  2011                    -1.0                      11   \n",
       "5          12  2011                    -1.0                      12   \n",
       "6          13  2011                    -1.0                      13   \n",
       "\n",
       "   categoria_conicet_descripcion  \n",
       "0         Investigador asistente  \n",
       "1          Investigador superior  \n",
       "2           Becario postdoctoral  \n",
       "3                        Pasante  \n",
       "4          Otro personal Conicet  \n",
       "5   Investigador correspondiente  \n",
       "6  Investigador superior emérito  "
      ],
      "text/html": "<div>\n<style scoped>\n    .dataframe tbody tr th:only-of-type {\n        vertical-align: middle;\n    }\n\n    .dataframe tbody tr th {\n        vertical-align: top;\n    }\n\n    .dataframe thead th {\n        text-align: right;\n    }\n</style>\n<table border=\"1\" class=\"dataframe\">\n  <thead>\n    <tr style=\"text-align: right;\">\n      <th></th>\n      <th>persona_id</th>\n      <th>anio</th>\n      <th>categoria_conicet_id_x</th>\n      <th>categoria_conicet_id_y</th>\n      <th>categoria_conicet_descripcion</th>\n    </tr>\n  </thead>\n  <tbody>\n    <tr>\n      <th>0</th>\n      <td>1</td>\n      <td>2011</td>\n      <td>-1.0</td>\n      <td>1</td>\n      <td>Investigador asistente</td>\n    </tr>\n    <tr>\n      <th>1</th>\n      <td>5</td>\n      <td>2011</td>\n      <td>2.0</td>\n      <td>5</td>\n      <td>Investigador superior</td>\n    </tr>\n    <tr>\n      <th>2</th>\n      <td>7</td>\n      <td>2011</td>\n      <td>NaN</td>\n      <td>7</td>\n      <td>Becario postdoctoral</td>\n    </tr>\n    <tr>\n      <th>3</th>\n      <td>10</td>\n      <td>2011</td>\n      <td>-1.0</td>\n      <td>10</td>\n      <td>Pasante</td>\n    </tr>\n    <tr>\n      <th>4</th>\n      <td>11</td>\n      <td>2011</td>\n      <td>-1.0</td>\n      <td>11</td>\n      <td>Otro personal Conicet</td>\n    </tr>\n    <tr>\n      <th>5</th>\n      <td>12</td>\n      <td>2011</td>\n      <td>-1.0</td>\n      <td>12</td>\n      <td>Investigador correspondiente</td>\n    </tr>\n    <tr>\n      <th>6</th>\n      <td>13</td>\n      <td>2011</td>\n      <td>-1.0</td>\n      <td>13</td>\n      <td>Investigador superior emérito</td>\n    </tr>\n  </tbody>\n</table>\n</div>"
     },
     "metadata": {},
     "execution_count": 9
    }
   ],
   "source": [
    "#left_on, right_on Se utiliza para relacionar 2 columnas a traves del merge que no tengan el mismo nombre.\n",
    "pd.merge(pers, conicet, left_on=\"persona_id\", right_on = \"categoria_conicet_id\")"
   ]
  },
  {
   "cell_type": "code",
   "execution_count": 10,
   "metadata": {},
   "outputs": [
    {
     "output_type": "error",
     "ename": "ValueError",
     "evalue": "You are trying to merge on int64 and object columns. If you wish to proceed you should use pd.concat",
     "traceback": [
      "\u001b[1;31m---------------------------------------------------------------------------\u001b[0m",
      "\u001b[1;31mValueError\u001b[0m                                Traceback (most recent call last)",
      "\u001b[1;32m<ipython-input-10-971773f1fbb3>\u001b[0m in \u001b[0;36m<module>\u001b[1;34m\u001b[0m\n\u001b[0;32m      1\u001b[0m \u001b[1;31m#Creá un DataFrame pers2 que contenga las columnas de pers excepto la columna \"categoria_conicet_id\" y luego probá hacer:\u001b[0m\u001b[1;33m\u001b[0m\u001b[1;33m\u001b[0m\u001b[1;33m\u001b[0m\u001b[0m\n\u001b[0;32m      2\u001b[0m \u001b[0mpers2\u001b[0m \u001b[1;33m=\u001b[0m \u001b[0mpers\u001b[0m\u001b[1;33m[\u001b[0m\u001b[1;33m[\u001b[0m\u001b[1;34m'persona_id'\u001b[0m\u001b[1;33m,\u001b[0m\u001b[1;34m'anio'\u001b[0m\u001b[1;33m]\u001b[0m\u001b[1;33m]\u001b[0m\u001b[1;33m\u001b[0m\u001b[1;33m\u001b[0m\u001b[0m\n\u001b[1;32m----> 3\u001b[1;33m \u001b[0mpd\u001b[0m\u001b[1;33m.\u001b[0m\u001b[0mmerge\u001b[0m\u001b[1;33m(\u001b[0m\u001b[0mpers2\u001b[0m\u001b[1;33m,\u001b[0m \u001b[0mconicet\u001b[0m\u001b[1;33m,\u001b[0m\u001b[0mhow\u001b[0m \u001b[1;33m=\u001b[0m \u001b[1;34m\"inner\"\u001b[0m\u001b[1;33m,\u001b[0m \u001b[0mleft_on\u001b[0m\u001b[1;33m=\u001b[0m\u001b[1;34m\"persona_id\"\u001b[0m\u001b[1;33m,\u001b[0m \u001b[0mright_on\u001b[0m \u001b[1;33m=\u001b[0m \u001b[1;34m\"categoria_conicet_descripcion\"\u001b[0m\u001b[1;33m)\u001b[0m\u001b[1;33m\u001b[0m\u001b[1;33m\u001b[0m\u001b[0m\n\u001b[0m\u001b[0;32m      4\u001b[0m \u001b[1;31m#Obviamente tira error porque estoy tratando de usar como columna en comun una con datos enteros y otra con str.\u001b[0m\u001b[1;33m\u001b[0m\u001b[1;33m\u001b[0m\u001b[1;33m\u001b[0m\u001b[0m\n",
      "\u001b[1;32m~\\AppData\\Local\\Programs\\Python\\Python39\\lib\\site-packages\\pandas\\core\\reshape\\merge.py\u001b[0m in \u001b[0;36mmerge\u001b[1;34m(left, right, how, on, left_on, right_on, left_index, right_index, sort, suffixes, copy, indicator, validate)\u001b[0m\n\u001b[0;32m     72\u001b[0m     \u001b[0mvalidate\u001b[0m\u001b[1;33m=\u001b[0m\u001b[1;32mNone\u001b[0m\u001b[1;33m,\u001b[0m\u001b[1;33m\u001b[0m\u001b[1;33m\u001b[0m\u001b[0m\n\u001b[0;32m     73\u001b[0m ) -> \"DataFrame\":\n\u001b[1;32m---> 74\u001b[1;33m     op = _MergeOperation(\n\u001b[0m\u001b[0;32m     75\u001b[0m         \u001b[0mleft\u001b[0m\u001b[1;33m,\u001b[0m\u001b[1;33m\u001b[0m\u001b[1;33m\u001b[0m\u001b[0m\n\u001b[0;32m     76\u001b[0m         \u001b[0mright\u001b[0m\u001b[1;33m,\u001b[0m\u001b[1;33m\u001b[0m\u001b[1;33m\u001b[0m\u001b[0m\n",
      "\u001b[1;32m~\\AppData\\Local\\Programs\\Python\\Python39\\lib\\site-packages\\pandas\\core\\reshape\\merge.py\u001b[0m in \u001b[0;36m__init__\u001b[1;34m(self, left, right, how, on, left_on, right_on, axis, left_index, right_index, sort, suffixes, copy, indicator, validate)\u001b[0m\n\u001b[0;32m    670\u001b[0m         \u001b[1;31m# validate the merge keys dtypes. We may need to coerce\u001b[0m\u001b[1;33m\u001b[0m\u001b[1;33m\u001b[0m\u001b[1;33m\u001b[0m\u001b[0m\n\u001b[0;32m    671\u001b[0m         \u001b[1;31m# to avoid incompatible dtypes\u001b[0m\u001b[1;33m\u001b[0m\u001b[1;33m\u001b[0m\u001b[1;33m\u001b[0m\u001b[0m\n\u001b[1;32m--> 672\u001b[1;33m         \u001b[0mself\u001b[0m\u001b[1;33m.\u001b[0m\u001b[0m_maybe_coerce_merge_keys\u001b[0m\u001b[1;33m(\u001b[0m\u001b[1;33m)\u001b[0m\u001b[1;33m\u001b[0m\u001b[1;33m\u001b[0m\u001b[0m\n\u001b[0m\u001b[0;32m    673\u001b[0m \u001b[1;33m\u001b[0m\u001b[0m\n\u001b[0;32m    674\u001b[0m         \u001b[1;31m# If argument passed to validate,\u001b[0m\u001b[1;33m\u001b[0m\u001b[1;33m\u001b[0m\u001b[1;33m\u001b[0m\u001b[0m\n",
      "\u001b[1;32m~\\AppData\\Local\\Programs\\Python\\Python39\\lib\\site-packages\\pandas\\core\\reshape\\merge.py\u001b[0m in \u001b[0;36m_maybe_coerce_merge_keys\u001b[1;34m(self)\u001b[0m\n\u001b[0;32m   1191\u001b[0m                     \u001b[0minferred_right\u001b[0m \u001b[1;32min\u001b[0m \u001b[0mstring_types\u001b[0m \u001b[1;32mand\u001b[0m \u001b[0minferred_left\u001b[0m \u001b[1;32mnot\u001b[0m \u001b[1;32min\u001b[0m \u001b[0mstring_types\u001b[0m\u001b[1;33m\u001b[0m\u001b[1;33m\u001b[0m\u001b[0m\n\u001b[0;32m   1192\u001b[0m                 ):\n\u001b[1;32m-> 1193\u001b[1;33m                     \u001b[1;32mraise\u001b[0m \u001b[0mValueError\u001b[0m\u001b[1;33m(\u001b[0m\u001b[0mmsg\u001b[0m\u001b[1;33m)\u001b[0m\u001b[1;33m\u001b[0m\u001b[1;33m\u001b[0m\u001b[0m\n\u001b[0m\u001b[0;32m   1194\u001b[0m \u001b[1;33m\u001b[0m\u001b[0m\n\u001b[0;32m   1195\u001b[0m             \u001b[1;31m# datetimelikes must match exactly\u001b[0m\u001b[1;33m\u001b[0m\u001b[1;33m\u001b[0m\u001b[1;33m\u001b[0m\u001b[0m\n",
      "\u001b[1;31mValueError\u001b[0m: You are trying to merge on int64 and object columns. If you wish to proceed you should use pd.concat"
     ]
    }
   ],
   "source": [
    "#Creá un DataFrame pers2 que contenga las columnas de pers excepto la columna \"categoria_conicet_id\" y luego probá hacer:\n",
    "pers2 = pers[['persona_id','anio']]\n",
    "pd.merge(pers2, conicet,how = \"inner\", left_on=\"persona_id\", right_on = \"categoria_conicet_descripcion\")\n",
    "#Obviamente tira error porque estoy tratando de usar como columna en comun una con datos enteros y otra con str."
   ]
  },
  {
   "cell_type": "code",
   "execution_count": 10,
   "metadata": {},
   "outputs": [
    {
     "output_type": "execute_result",
     "data": {
      "text/plain": [
       "categoria_conicet_id              int64\n",
       "categoria_conicet_descripcion    object\n",
       "dtype: object"
      ]
     },
     "metadata": {},
     "execution_count": 10
    }
   ],
   "source": [
    "conicet.dtypes"
   ]
  },
  {
   "cell_type": "code",
   "execution_count": 11,
   "metadata": {},
   "outputs": [
    {
     "output_type": "execute_result",
     "data": {
      "text/plain": [
       "\"\\nprint(df.set_index('anio'))\\n         mes  venta\\nanio\\n2012      1    55\\n2014      4    40\\n2013      7    84\\n2014     10    31\\n \\n# Podemos crear múltiples índices\\nprint(df.set_index(['anio', 'mes']))\\n            venta\\nanio  mes\\n2012  1     55\\n2014  4     40\\n2013  7     84\\n2014  10    31\\n\""
      ]
     },
     "metadata": {},
     "execution_count": 11
    }
   ],
   "source": [
    "#ORDENAMIENTO, COLUMN TO INDEX, SAVE CSV\n",
    "#pd.df.set_index Index to column\n",
    "#Mediante este método se puede definir el índice (nombre de las filas) de manera explícita.\n",
    "'''\n",
    "print(df.set_index('anio'))\n",
    "         mes  venta\n",
    "anio\n",
    "2012      1    55\n",
    "2014      4    40\n",
    "2013      7    84\n",
    "2014     10    31\n",
    " \n",
    "# Podemos crear múltiples índices\n",
    "print(df.set_index(['anio', 'mes']))\n",
    "            venta\n",
    "anio  mes\n",
    "2012  1     55\n",
    "2014  4     40\n",
    "2013  7     84\n",
    "2014  10    31\n",
    "'''"
   ]
  },
  {
   "cell_type": "code",
   "execution_count": null,
   "metadata": {},
   "outputs": [],
   "source": [
    "'''\n",
    "pd.df.sort_values Ordenamiento\n",
    "\n",
    "Como su nombre lo indica, ordena los valores de un data frame. Este orden se puede hacer tanto por columnas como por filas, ascendente o descendente, y eligiendo dónde deben ir los NaN.\n",
    "\n",
    "axis: por defecto es 0. Con esto elegimos si se ordenan las columnas o las filas.\n",
    "\n",
    "ascending: por defecto es True, por lo que se ordena de menor a mayor. Si es False se invierte el orden.\n",
    "\n",
    "na_position: por defecto es \"last\", por lo que todos los valores NaN se ordenan al final, pero se puede configurar como \"first\" para que aparezcan primero.\n",
    "Para mover los Nan\n",
    "\n",
    "df = pd.DataFrame({\n",
    "    'col1': ['A', 'A', 'B', np.nan, 'D', 'C'],\n",
    "    'col2': [2, 1, 9, 8, 7, 4],\n",
    "    'col3': [0, 1, 9, 4, 2, 3],\n",
    "    'col4': ['a', 'B', 'c', 'D', 'e', 'F']\n",
    "})\n",
    "print(df)\n",
    "  col1  col2  col3 col4\n",
    "0    A     2     0    a\n",
    "1    A     1     1    B\n",
    "2    B     9     9    c\n",
    "3  NaN     8     4    D\n",
    "4    D     7     2    e\n",
    "5    C     4     3    F\n",
    "\n",
    "# Ordenamos por columna 1:\n",
    "print(df.sort_values(by=['col1']))\n",
    "  col1  col2  col3 col4\n",
    "0    A     2     0    a\n",
    "1    A     1     1    B\n",
    "2    B     9     9    c\n",
    "5    C     4     3    F\n",
    "4    D     7     2    e\n",
    "3  NaN     8     4    D\n",
    "\n",
    "# Se pueden ordenar por más de una columna a la vez:\n",
    "print(df.sort_values(by=['col1', 'col2']))\n",
    "  col1  col2  col3 col4\n",
    "1    A     1     1    B\n",
    "0    A     2     0    a\n",
    "2    B     9     9    c\n",
    "5    C     4     3    F\n",
    "4    D     7     2    e\n",
    "3  NaN     8     4    D\n",
    "\n",
    "# Ordenamos de forma descenciente y con los NaN al principio:\n",
    "print(df.sort_values(by='col1', ascending=False, na_position='first'))\n",
    "  col1  col2  col3 col4\n",
    "3  NaN     8     4    D\n",
    "4    D     7     2    e\n",
    "5    C     4     3    F\n",
    "2    B     9     9    c\n",
    "0    A     2     0    a\n",
    "1    A     1     1    B\n",
    "\n",
    "'''\n"
   ]
  },
  {
   "cell_type": "code",
   "execution_count": null,
   "metadata": {},
   "outputs": [],
   "source": [
    "'''\n",
    "pd.df.to_csv\n",
    "\n",
    "Con este método podemos guardar un data frame en un archivo csv (separado por comas).\n",
    "\n",
    "path_or_buf: por defecto es None, por lo que si no le damos una ruta donde debe ser guardado nos va a devolver un string. La ruta puede ser completa o relativa.\n",
    "\n",
    "sep: por defecto el separador es una coma, pero igual que con la apertura, este se puede definir.\n",
    "\n",
    "na_rep: es la representación de los valores NaN, que por defecto es un string vacío, \"\", pero también puede ser configurado.\n",
    "\n",
    "header: por defecto es True, guarda el archivo con los nombres de las columnas.\n",
    "\n",
    "index: idem a header. Cuando los nombres de los índices son generados automáticamente (del 0 en adelante) es mejor que este parámetro tome el valor False.\n",
    "\n",
    "Guardar los dataframes en un archivo csv\n",
    "'''"
   ]
  },
  {
   "cell_type": "code",
   "execution_count": 12,
   "metadata": {},
   "outputs": [
    {
     "output_type": "execute_result",
     "data": {
      "text/plain": [
       "0        36\n",
       "1        48\n",
       "2        30\n",
       "3        51\n",
       "4        39\n",
       "         ..\n",
       "68547    -1\n",
       "68548    55\n",
       "68549    18\n",
       "68550    -1\n",
       "68551    27\n",
       "Name: edad, Length: 68552, dtype: int64"
      ]
     },
     "metadata": {},
     "execution_count": 12
    }
   ],
   "source": [
    "'''\n",
    "Ejercicio\n",
    "Obtener las 10 personas con mayor edad y\n",
    "'''\n",
    "personas.edad"
   ]
  },
  {
   "cell_type": "code",
   "execution_count": 13,
   "metadata": {},
   "outputs": [
    {
     "output_type": "execute_result",
     "data": {
      "text/plain": [
       "5182     88\n",
       "47199    85\n",
       "14292    84\n",
       "7555     84\n",
       "34738    84\n",
       "12158    83\n",
       "21866    83\n",
       "11977    83\n",
       "11852    83\n",
       "45303    83\n",
       "Name: edad, dtype: int64"
      ]
     },
     "metadata": {},
     "execution_count": 13
    }
   ],
   "source": [
    "mayores = personas.sort_values(by=\"edad\", ascending=False).head(10)\n",
    "mayores.edad"
   ]
  },
  {
   "cell_type": "code",
   "execution_count": 14,
   "metadata": {},
   "outputs": [
    {
     "output_type": "execute_result",
     "data": {
      "text/plain": [
       "       persona_id  anio  edad  producciones_ult_4_anios  categoria_conicet_id\n",
       "5182         6522  2011    88                         8                   5.0\n",
       "47199       63317  2011    85                         0                  -1.0\n",
       "14292       18569  2011    84                        11                  -1.0\n",
       "7555         9442  2011    84                        19                  -1.0\n",
       "34738       44842  2011    84                        28                  -1.0\n",
       "12158       15685  2011    83                        12                  -1.0\n",
       "21866       29049  2011    83                         1                  -1.0\n",
       "11977       15407  2011    83                         9                  -1.0\n",
       "11852       15238  2011    83                        22                  -1.0\n",
       "45303       59467  2011    83                        13                  -1.0"
      ],
      "text/html": "<div>\n<style scoped>\n    .dataframe tbody tr th:only-of-type {\n        vertical-align: middle;\n    }\n\n    .dataframe tbody tr th {\n        vertical-align: top;\n    }\n\n    .dataframe thead th {\n        text-align: right;\n    }\n</style>\n<table border=\"1\" class=\"dataframe\">\n  <thead>\n    <tr style=\"text-align: right;\">\n      <th></th>\n      <th>persona_id</th>\n      <th>anio</th>\n      <th>edad</th>\n      <th>producciones_ult_4_anios</th>\n      <th>categoria_conicet_id</th>\n    </tr>\n  </thead>\n  <tbody>\n    <tr>\n      <th>5182</th>\n      <td>6522</td>\n      <td>2011</td>\n      <td>88</td>\n      <td>8</td>\n      <td>5.0</td>\n    </tr>\n    <tr>\n      <th>47199</th>\n      <td>63317</td>\n      <td>2011</td>\n      <td>85</td>\n      <td>0</td>\n      <td>-1.0</td>\n    </tr>\n    <tr>\n      <th>14292</th>\n      <td>18569</td>\n      <td>2011</td>\n      <td>84</td>\n      <td>11</td>\n      <td>-1.0</td>\n    </tr>\n    <tr>\n      <th>7555</th>\n      <td>9442</td>\n      <td>2011</td>\n      <td>84</td>\n      <td>19</td>\n      <td>-1.0</td>\n    </tr>\n    <tr>\n      <th>34738</th>\n      <td>44842</td>\n      <td>2011</td>\n      <td>84</td>\n      <td>28</td>\n      <td>-1.0</td>\n    </tr>\n    <tr>\n      <th>12158</th>\n      <td>15685</td>\n      <td>2011</td>\n      <td>83</td>\n      <td>12</td>\n      <td>-1.0</td>\n    </tr>\n    <tr>\n      <th>21866</th>\n      <td>29049</td>\n      <td>2011</td>\n      <td>83</td>\n      <td>1</td>\n      <td>-1.0</td>\n    </tr>\n    <tr>\n      <th>11977</th>\n      <td>15407</td>\n      <td>2011</td>\n      <td>83</td>\n      <td>9</td>\n      <td>-1.0</td>\n    </tr>\n    <tr>\n      <th>11852</th>\n      <td>15238</td>\n      <td>2011</td>\n      <td>83</td>\n      <td>22</td>\n      <td>-1.0</td>\n    </tr>\n    <tr>\n      <th>45303</th>\n      <td>59467</td>\n      <td>2011</td>\n      <td>83</td>\n      <td>13</td>\n      <td>-1.0</td>\n    </tr>\n  </tbody>\n</table>\n</div>"
     },
     "metadata": {},
     "execution_count": 14
    }
   ],
   "source": [
    "'''\n",
    "generar un nuevo DataFrame con la información de el id de la persona, el año, su edad y las producciones académicas de los últimos 4 años. \n",
    "'''\n",
    "mayores1 = mayores[['persona_id','anio', 'edad', 'producciones_ult_4_anios', 'categoria_conicet_id']]\n",
    "mayores1"
   ]
  },
  {
   "cell_type": "code",
   "execution_count": 15,
   "metadata": {},
   "outputs": [],
   "source": [
    "'''Unirlo con el DataFrame conicet y en base a ese generar una tabla con el id de la persona y la descripción de la categoría en conicet. Luego guardar este último DataFrame en un archivo.\n",
    "'''\n",
    "path = r'C:\\Users\\martu\\Documents\\martu\\UCEMA\\2 - PRIMER CUATRI\\INFORMATICA\\Base de Datos\\mayores_conicet.csv'\n",
    "pd.merge(mayores1, conicet, on = \"categoria_conicet_id\").to_csv(path, sep=\";\")"
   ]
  },
  {
   "cell_type": "code",
   "execution_count": 25,
   "metadata": {},
   "outputs": [
    {
     "output_type": "execute_result",
     "data": {
      "text/plain": [
       "   persona_id categoria_conicet_descripcion\n",
       "0        6522         Investigador superior\n",
       "1       63317        No pertenece a Conicet\n",
       "2       18569        No pertenece a Conicet\n",
       "3        9442        No pertenece a Conicet\n",
       "4       44842        No pertenece a Conicet\n",
       "5       15685        No pertenece a Conicet\n",
       "6       29049        No pertenece a Conicet\n",
       "7       15407        No pertenece a Conicet\n",
       "8       15238        No pertenece a Conicet\n",
       "9       59467        No pertenece a Conicet"
      ],
      "text/html": "<div>\n<style scoped>\n    .dataframe tbody tr th:only-of-type {\n        vertical-align: middle;\n    }\n\n    .dataframe tbody tr th {\n        vertical-align: top;\n    }\n\n    .dataframe thead th {\n        text-align: right;\n    }\n</style>\n<table border=\"1\" class=\"dataframe\">\n  <thead>\n    <tr style=\"text-align: right;\">\n      <th></th>\n      <th>persona_id</th>\n      <th>categoria_conicet_descripcion</th>\n    </tr>\n  </thead>\n  <tbody>\n    <tr>\n      <th>0</th>\n      <td>6522</td>\n      <td>Investigador superior</td>\n    </tr>\n    <tr>\n      <th>1</th>\n      <td>63317</td>\n      <td>No pertenece a Conicet</td>\n    </tr>\n    <tr>\n      <th>2</th>\n      <td>18569</td>\n      <td>No pertenece a Conicet</td>\n    </tr>\n    <tr>\n      <th>3</th>\n      <td>9442</td>\n      <td>No pertenece a Conicet</td>\n    </tr>\n    <tr>\n      <th>4</th>\n      <td>44842</td>\n      <td>No pertenece a Conicet</td>\n    </tr>\n    <tr>\n      <th>5</th>\n      <td>15685</td>\n      <td>No pertenece a Conicet</td>\n    </tr>\n    <tr>\n      <th>6</th>\n      <td>29049</td>\n      <td>No pertenece a Conicet</td>\n    </tr>\n    <tr>\n      <th>7</th>\n      <td>15407</td>\n      <td>No pertenece a Conicet</td>\n    </tr>\n    <tr>\n      <th>8</th>\n      <td>15238</td>\n      <td>No pertenece a Conicet</td>\n    </tr>\n    <tr>\n      <th>9</th>\n      <td>59467</td>\n      <td>No pertenece a Conicet</td>\n    </tr>\n  </tbody>\n</table>\n</div>"
     },
     "metadata": {},
     "execution_count": 25
    }
   ],
   "source": [
    "#forma 1:\n",
    "#pers = personas[['persona_id','anio', 'categoria_conicet_id']]\n",
    "#forma 2:\n",
    "#pers = pd.concat([personas[\"persona_id\"], personas[\"anio\"], personas[\"categoria_conicet_id\"]], axis=1)\n",
    "\n",
    "mayores_conicet = pd.read_csv(path, sep=\";\")\n",
    "mayores_conicet\n",
    "tabla = pd.concat([mayores_conicet['persona_id'], mayores_conicet['categoria_conicet_descripcion']], axis=1)\n",
    "tabla\n",
    "# o \n",
    "#tabla = mayores_conicet[['persona_id', 'categoria_conicet_descripcion']]"
   ]
  },
  {
   "cell_type": "code",
   "execution_count": 27,
   "metadata": {},
   "outputs": [],
   "source": [
    "path = r'C:\\Users\\martu\\Documents\\martu\\UCEMA\\2 - PRIMER CUATRI\\INFORMATICA\\Base de Datos\\mayores_conicet_descripcion.csv'\n",
    "tabla.to_csv(path, sep=\";\")"
   ]
  }
 ]
}